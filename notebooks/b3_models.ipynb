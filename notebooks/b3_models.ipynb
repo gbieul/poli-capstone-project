{
 "cells": [
  {
   "cell_type": "code",
   "execution_count": 9,
   "id": "7dc2d26e-45cf-49b1-af7e-7883d6479165",
   "metadata": {},
   "outputs": [
    {
     "name": "stdout",
     "output_type": "stream",
     "text": [
      "<pad> A partir de 13 de novembro de 2023, o Banco Central (BC) vai mudar a regra de cadastro automático de vencimentos do Futuro de Cupom de Créditos (IPCA).</s>\n"
     ]
    }
   ],
   "source": [
    "# Tokenizer \n",
    "# from transformers import T5Tokenizer\n",
    "\n",
    "# # PyTorch model \n",
    "# from transformers import T5Model, T5ForConditionalGeneration\n",
    "\n",
    "# token_name = 'unicamp-dl/ptt5-base-portuguese-vocab'\n",
    "# model_name = 'phpaiola/ptt5-base-summ-xlsum'\n",
    "\n",
    "# tokenizer = T5Tokenizer.from_pretrained(token_name)\n",
    "# model_pt = T5ForConditionalGeneration.from_pretrained(model_name)\n",
    "\n",
    "text = '''\n",
    "9 de novembro de 2023 187/2023-PRE OFÍCIO CIRCULAR Participantes do Listado B3  \n",
    "Ref.: Alteração na Regra de Cadastro Automático de Vencimentos do  Futuro de Cupom de IPCA (DAP) \n",
    "Informamos que, a partir de 13/11/2023, inclusive, será alterada a regra para  cadastro automático \n",
    "de vencimentos do Contrato Futuro de Cupom de IPCA  (DAP).  A regra de cadastro automático de vencimentos foi revista, \n",
    "visando ampliar a  abertura de novos vencimentos curtos de DAP, de 3 primeiros meses para 6,  \n",
    "conforme tabela abaixo Regra até 10/11/2023 Regras do  contrato Cadastro automático Cadastro \n",
    "pré-aprovado Restrições Todos os meses 3 primeiros meses. 1º vencimento janeiro (não  \n",
    "contemplado nos 3 primeiros  meses). Até 15 anos: coincidente com  vencimento de NTN-B (maio e  agosto). \n",
    "Até 15 anos • Coincidente com pagamento de  juros de NTN-B (fevereiro, maio,  agosto e novembro). \n",
    "• Início de semestre. -Regra a partir de 13/11/2023 Regras do  contrato Cadastro automático \n",
    "Cadastro pré-aprovado Restrições Todos os meses 6 primeiros meses. 1º vencimento janeiro com  \n",
    "mais de 6 meses. Até 15 anos: coincidente com  vencimento de NTN-B (maio e  agosto). Até 2 anos • \n",
    "Coincidente com pagamento de  juros de NTN-B (fevereiro, maio,  agosto e novembro). • Início de semestre. - \n",
    "A regra vigente de cadastro automático e cadastro pré-aprovado de instrumentos  para o DAP pode ser consultada \n",
    "em www.b3.com.br, Regulação, Estrutura  normativa, Regulamentos e manuais, Negociação, Acessar documentos, \n",
    "Critérios  para Criação e Exclusão de Vencimentos Futuros e Séries de Opções. Ressaltamos que os demais termos do\n",
    "Contrato Futuro de Cupom de IPCA (DAP) permanecem inalterados. O único ajuste é referente ao cadastro automático.  \n",
    "Esclarecimentos adicionais poderão ser obtidos com a Diretoria de Produtos  Listados, pelos telefones \n",
    "(11) 2565-5830/6324 ou e-mail  jurosemoedas@b3.com.br. Gilson Finkelsztain \n",
    "Presidente José Ribeiro de Andrade Vice-Presidente de Produtos e Clientes \n",
    "'''\n",
    "\n",
    "inputs = tokenizer.encode(text, max_length=512, truncation=True, return_tensors='pt')\n",
    "summary_ids = model_pt.generate(inputs, max_length=300, min_length=32, num_beams=5, no_repeat_ngram_size=3, early_stopping=True)\n",
    "summary = tokenizer.decode(summary_ids[0])\n",
    "print(summary)"
   ]
  },
  {
   "cell_type": "code",
   "execution_count": 12,
   "id": "e062d146-2394-41ce-a702-b34668601afc",
   "metadata": {},
   "outputs": [],
   "source": [
    "# https://huggingface.co/unicamp-dl/ptt5-large-portuguese-vocab\n",
    "\n",
    "# Tokenizer \n",
    "from transformers import T5Tokenizer\n",
    "\n",
    "# PyTorch (bare model, baremodel + language modeling head)\n",
    "from transformers import T5Model, T5ForConditionalGeneration\n",
    "\n",
    "# Tensorflow (bare model, baremodel + language modeling head)\n",
    "from transformers import TFT5Model, TFT5ForConditionalGeneration\n",
    "\n",
    "model_name = 'unicamp-dl/ptt5-base-portuguese-vocab'\n",
    "\n",
    "tokenizer = T5Tokenizer.from_pretrained(model_name)\n",
    "\n",
    "# PyTorch\n",
    "model_pt = T5ForConditionalGeneration.from_pretrained(model_name)\n",
    "\n",
    "# TensorFlow\n",
    "# model_tf = TFT5ForConditionalGeneration.from_pretrained(model_name)"
   ]
  },
  {
   "cell_type": "code",
   "execution_count": 13,
   "id": "ec67453a-00d2-4b04-8703-760ce2710b3d",
   "metadata": {},
   "outputs": [],
   "source": [
    "import os\n",
    "\n",
    "import pandas as pd\n",
    "import numpy as np"
   ]
  },
  {
   "cell_type": "code",
   "execution_count": 18,
   "id": "2700ff54-ba44-4969-88ed-59d98a556bfe",
   "metadata": {},
   "outputs": [
    {
     "data": {
      "text/html": [
       "<div>\n",
       "<style scoped>\n",
       "    .dataframe tbody tr th:only-of-type {\n",
       "        vertical-align: middle;\n",
       "    }\n",
       "\n",
       "    .dataframe tbody tr th {\n",
       "        vertical-align: top;\n",
       "    }\n",
       "\n",
       "    .dataframe thead th {\n",
       "        text-align: right;\n",
       "    }\n",
       "</style>\n",
       "<table border=\"1\" class=\"dataframe\">\n",
       "  <thead>\n",
       "    <tr style=\"text-align: right;\">\n",
       "      <th></th>\n",
       "      <th>published_date</th>\n",
       "      <th>published_abstract</th>\n",
       "      <th>published_subject</th>\n",
       "      <th>url</th>\n",
       "      <th>file_name</th>\n",
       "      <th>pypdfium_extraction</th>\n",
       "      <th>cleaned_extraction</th>\n",
       "      <th>tokens_amount</th>\n",
       "    </tr>\n",
       "    <tr>\n",
       "      <th>published_title</th>\n",
       "      <th></th>\n",
       "      <th></th>\n",
       "      <th></th>\n",
       "      <th></th>\n",
       "      <th></th>\n",
       "      <th></th>\n",
       "      <th></th>\n",
       "      <th></th>\n",
       "    </tr>\n",
       "  </thead>\n",
       "  <tbody>\n",
       "    <tr>\n",
       "      <th>187-2023-PRE-Ofício Circular</th>\n",
       "      <td>2023-11-09</td>\n",
       "      <td>Informamos que, a partir de 13/11/2023, inclus...</td>\n",
       "      <td>Alteração na Regra de Cadastro Automático de V...</td>\n",
       "      <td>https://www.b3.com.br/data/files/73/E7/C5/27/2...</td>\n",
       "      <td>2023-11-09|187-2023-PRE-Ofício Circular.pdf</td>\n",
       "      <td>Este documento produz efeitos a partir da data...</td>\n",
       "      <td>9 de novembro de 2023 187/2023-PRE OFÍCIO CIRC...</td>\n",
       "      <td>289</td>\n",
       "    </tr>\n",
       "    <tr>\n",
       "      <th>107-2023-VNC-Comunicado Externo</th>\n",
       "      <td>2023-11-09</td>\n",
       "      <td>A B3 informa que, conforme Comunicado Externo ...</td>\n",
       "      <td>Lançamento das sessões de Renda Fixa Trademate</td>\n",
       "      <td>https://www.b3.com.br/data/files/78/67/00/8C/C...</td>\n",
       "      <td>2023-11-09|107-2023-VNC-Comunicado Externo.pdf</td>\n",
       "      <td>Este documento produz efeitos a partir da data...</td>\n",
       "      <td>9 de novembro de 2023 107/2023-VNC COMUNICADO ...</td>\n",
       "      <td>293</td>\n",
       "    </tr>\n",
       "  </tbody>\n",
       "</table>\n",
       "</div>"
      ],
      "text/plain": [
       "                                published_date  \\\n",
       "published_title                                  \n",
       "187-2023-PRE-Ofício Circular        2023-11-09   \n",
       "107-2023-VNC-Comunicado Externo     2023-11-09   \n",
       "\n",
       "                                                                published_abstract  \\\n",
       "published_title                                                                      \n",
       "187-2023-PRE-Ofício Circular     Informamos que, a partir de 13/11/2023, inclus...   \n",
       "107-2023-VNC-Comunicado Externo  A B3 informa que, conforme Comunicado Externo ...   \n",
       "\n",
       "                                                                 published_subject  \\\n",
       "published_title                                                                      \n",
       "187-2023-PRE-Ofício Circular     Alteração na Regra de Cadastro Automático de V...   \n",
       "107-2023-VNC-Comunicado Externo     Lançamento das sessões de Renda Fixa Trademate   \n",
       "\n",
       "                                                                               url  \\\n",
       "published_title                                                                      \n",
       "187-2023-PRE-Ofício Circular     https://www.b3.com.br/data/files/73/E7/C5/27/2...   \n",
       "107-2023-VNC-Comunicado Externo  https://www.b3.com.br/data/files/78/67/00/8C/C...   \n",
       "\n",
       "                                                                      file_name  \\\n",
       "published_title                                                                   \n",
       "187-2023-PRE-Ofício Circular        2023-11-09|187-2023-PRE-Ofício Circular.pdf   \n",
       "107-2023-VNC-Comunicado Externo  2023-11-09|107-2023-VNC-Comunicado Externo.pdf   \n",
       "\n",
       "                                                               pypdfium_extraction  \\\n",
       "published_title                                                                      \n",
       "187-2023-PRE-Ofício Circular     Este documento produz efeitos a partir da data...   \n",
       "107-2023-VNC-Comunicado Externo  Este documento produz efeitos a partir da data...   \n",
       "\n",
       "                                                                cleaned_extraction  \\\n",
       "published_title                                                                      \n",
       "187-2023-PRE-Ofício Circular     9 de novembro de 2023 187/2023-PRE OFÍCIO CIRC...   \n",
       "107-2023-VNC-Comunicado Externo  9 de novembro de 2023 107/2023-VNC COMUNICADO ...   \n",
       "\n",
       "                                 tokens_amount  \n",
       "published_title                                 \n",
       "187-2023-PRE-Ofício Circular               289  \n",
       "107-2023-VNC-Comunicado Externo            293  "
      ]
     },
     "execution_count": 18,
     "metadata": {},
     "output_type": "execute_result"
    }
   ],
   "source": [
    "data_dir = \"/home/gabriel/Documentos/projects/poli-capstone-project/data/\"\n",
    "data_file = \"filtered_docs.parquet\"\n",
    "data_file_path = f\"{data_dir}{data_file}\"\n",
    "\n",
    "df = pd.read_parquet(data_file_path)\n",
    "df.head(2)"
   ]
  },
  {
   "cell_type": "code",
   "execution_count": 19,
   "id": "c9bd53ba-8d4e-4de5-829f-378c70e264d2",
   "metadata": {},
   "outputs": [],
   "source": [
    "data_df = df[[\"cleaned_extraction\", \"published_abstract\"]]"
   ]
  },
  {
   "cell_type": "code",
   "execution_count": 22,
   "id": "04120d45-899e-43f1-9b2f-d80ad313235d",
   "metadata": {},
   "outputs": [],
   "source": [
    "# https://discuss.huggingface.co/t/how-to-load-two-pandas-dataframe-into-dataset-object/18713\n",
    "# https://discuss.huggingface.co/t/mt5-fine-tuning-keyerror-source-ids/5257\n",
    "from datasets import Dataset, concatenate_datasets\n",
    "\n",
    "train_dataset = Dataset.from_pandas(data_df)\n",
    "valid_dataset = Dataset.from_pandas(data_df)\n",
    "\n",
    "# processor = DataProcessor(\n",
    "#     tokenizer,\n",
    "#     max_source_length=data_args.max_source_length,\n",
    "#     max_target_length=data_args.max_target_length\n",
    "# )\n",
    "\n",
    "\n",
    "# train_dataset = processor.process(train_dataset)\n",
    "# valid_dataset = processor.process(valid_dataset)\n",
    "\n",
    "# columns = [\"source_ids\", \"target_ids\", \"attention_mask\"]"
   ]
  },
  {
   "cell_type": "code",
   "execution_count": 23,
   "id": "7c358538-1aed-404a-b4e0-f5328c015e30",
   "metadata": {},
   "outputs": [
    {
     "data": {
      "text/plain": [
       "Dataset({\n",
       "    features: ['cleaned_extraction', 'published_abstract', 'published_title'],\n",
       "    num_rows: 210\n",
       "})"
      ]
     },
     "execution_count": 23,
     "metadata": {},
     "output_type": "execute_result"
    }
   ],
   "source": [
    "train_dataset"
   ]
  },
  {
   "cell_type": "code",
   "execution_count": null,
   "id": "a17e3b99-711e-4d81-8f4b-3d13613c9a13",
   "metadata": {},
   "outputs": [],
   "source": [
    "# https://github.com/priya-dwivedi/Deep-Learning/blob/master/wikihow-fine-tuning-T5/Tune_T5_WikiHow-Github.ipynb\n"
   ]
  }
 ],
 "metadata": {
  "kernelspec": {
   "display_name": "Python 3 (ipykernel)",
   "language": "python",
   "name": "python3"
  },
  "language_info": {
   "codemirror_mode": {
    "name": "ipython",
    "version": 3
   },
   "file_extension": ".py",
   "mimetype": "text/x-python",
   "name": "python",
   "nbconvert_exporter": "python",
   "pygments_lexer": "ipython3",
   "version": "3.10.12"
  }
 },
 "nbformat": 4,
 "nbformat_minor": 5
}
