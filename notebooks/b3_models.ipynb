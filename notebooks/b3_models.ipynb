{
 "cells": [
  {
   "cell_type": "code",
   "execution_count": 2,
   "id": "7dc2d26e-45cf-49b1-af7e-7883d6479165",
   "metadata": {},
   "outputs": [
    {
     "name": "stdout",
     "output_type": "stream",
     "text": [
      "<pad> A partir de 13 de novembro de 2023, o Banco Central (BC) vai mudar a regra de cadastro automático de vencimentos do Futuro de Cupom de Créditos (IPCA).</s>\n"
     ]
    }
   ],
   "source": [
    "\n",
    "\n",
    "token_name = 'unicamp-dl/ptt5-base-portuguese-vocab'\n",
    "model_name = 'phpaiola/ptt5-base-summ-xlsum'\n",
    "\n",
    "tokenizer = T5Tokenizer.from_pretrained(token_name )\n",
    "model_pt = T5ForConditionalGeneration.from_pretrained(model_name)\n",
    "\n",
    "text = '''\n",
    "9 de novembro de 2023 187/2023-PRE OFÍCIO CIRCULAR Participantes do Listado B3  \n",
    "Ref.: Alteração na Regra de Cadastro Automático de Vencimentos do  Futuro de Cupom de IPCA (DAP) \n",
    "Informamos que, a partir de 13/11/2023, inclusive, será alterada a regra para  cadastro automático \n",
    "de vencimentos do Contrato Futuro de Cupom de IPCA  (DAP).  A regra de cadastro automático de vencimentos foi revista, \n",
    "visando ampliar a  abertura de novos vencimentos curtos de DAP, de 3 primeiros meses para 6,  \n",
    "conforme tabela abaixo Regra até 10/11/2023 Regras do  contrato Cadastro automático Cadastro \n",
    "pré-aprovado Restrições Todos os meses 3 primeiros meses. 1º vencimento janeiro (não  \n",
    "contemplado nos 3 primeiros  meses). Até 15 anos: coincidente com  vencimento de NTN-B (maio e  agosto). \n",
    "Até 15 anos • Coincidente com pagamento de  juros de NTN-B (fevereiro, maio,  agosto e novembro). \n",
    "• Início de semestre. -Regra a partir de 13/11/2023 Regras do  contrato Cadastro automático \n",
    "Cadastro pré-aprovado Restrições Todos os meses 6 primeiros meses. 1º vencimento janeiro com  \n",
    "mais de 6 meses. Até 15 anos: coincidente com  vencimento de NTN-B (maio e  agosto). Até 2 anos • \n",
    "Coincidente com pagamento de  juros de NTN-B (fevereiro, maio,  agosto e novembro). • Início de semestre. - \n",
    "A regra vigente de cadastro automático e cadastro pré-aprovado de instrumentos  para o DAP pode ser consultada \n",
    "em www.b3.com.br, Regulação, Estrutura  normativa, Regulamentos e manuais, Negociação, Acessar documentos, \n",
    "Critérios  para Criação e Exclusão de Vencimentos Futuros e Séries de Opções. Ressaltamos que os demais termos do\n",
    "Contrato Futuro de Cupom de IPCA (DAP) permanecem inalterados. O único ajuste é referente ao cadastro automático.  \n",
    "Esclarecimentos adicionais poderão ser obtidos com a Diretoria de Produtos  Listados, pelos telefones \n",
    "(11) 2565-5830/6324 ou e-mail  jurosemoedas@b3.com.br. Gilson Finkelsztain \n",
    "Presidente José Ribeiro de Andrade Vice-Presidente de Produtos e Clientes \n",
    "'''\n",
    "\n",
    "inputs = tokenizer.encode(text, max_length=512, truncation=True, return_tensors='pt')\n",
    "summary_ids = model_pt.generate(inputs, max_length=256, min_length=32, num_beams=5, no_repeat_ngram_size=3, early_stopping=True)\n",
    "summary = tokenizer.decode(summary_ids[0])\n",
    "print(summary)"
   ]
  }
 ],
 "metadata": {
  "kernelspec": {
   "display_name": "Python 3 (ipykernel)",
   "language": "python",
   "name": "python3"
  },
  "language_info": {
   "codemirror_mode": {
    "name": "ipython",
    "version": 3
   },
   "file_extension": ".py",
   "mimetype": "text/x-python",
   "name": "python",
   "nbconvert_exporter": "python",
   "pygments_lexer": "ipython3",
   "version": "3.10.12"
  }
 },
 "nbformat": 4,
 "nbformat_minor": 5
}
